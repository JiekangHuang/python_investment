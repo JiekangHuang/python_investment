{
 "cells": [
  {
   "cell_type": "markdown",
   "metadata": {},
   "source": [
    "<a href=\"https://colab.research.google.com/github/victorgau/python_investment/blob/master/1-4%20%E8%AE%80%E5%8F%96NYSE%E5%85%AC%E5%8F%B8%E5%88%97%E8%A1%A8.ipynb\" target=\"_parent\"><img src=\"https://colab.research.google.com/assets/colab-badge.svg\" alt=\"Open In Colab\"/></a>"
   ]
  },
  {
   "cell_type": "markdown",
   "metadata": {},
   "source": [
    "# 讀取NYSE公司列表"
   ]
  },
  {
   "cell_type": "code",
   "execution_count": null,
   "metadata": {
    "colab": {},
    "colab_type": "code",
    "id": "M2tKhegAYZEf"
   },
   "outputs": [],
   "source": [
    "import requests"
   ]
  },
  {
   "cell_type": "code",
   "execution_count": null,
   "metadata": {
    "colab": {},
    "colab_type": "code",
    "id": "im2CUbzkYbSO"
   },
   "outputs": [],
   "source": [
    "url = \"https://www.nyse.com/api/quotes/filter\""
   ]
  },
  {
   "cell_type": "code",
   "execution_count": null,
   "metadata": {
    "colab": {},
    "colab_type": "code",
    "id": "rb4q8gz5Yelr"
   },
   "outputs": [],
   "source": [
    "data = {\"instrumentType\": \"EQUITY\",\n",
    "        \"pageNumber\": 1,\n",
    "        \"sortColumn\": \"NORMALIZED_TICKER\",\n",
    "        \"sortOrder\": \"ASC\",\n",
    "        \"maxResultsPerPage\": 7000,\n",
    "        \"filterToken\": \"\"}"
   ]
  },
  {
   "cell_type": "code",
   "execution_count": null,
   "metadata": {
    "colab": {},
    "colab_type": "code",
    "id": "6DZLRSAKYzNj"
   },
   "outputs": [],
   "source": [
    "companies = requests.post(url, json=data).json()"
   ]
  },
  {
   "cell_type": "code",
   "execution_count": null,
   "metadata": {
    "colab": {},
    "colab_type": "code",
    "id": "NJoHc8c2aR65"
   },
   "outputs": [],
   "source": [
    "import pandas as pd"
   ]
  },
  {
   "cell_type": "code",
   "execution_count": null,
   "metadata": {
    "colab": {},
    "colab_type": "code",
    "id": "mp4_zWgJafS0"
   },
   "outputs": [],
   "source": [
    "df = pd.DataFrame(companies)"
   ]
  },
  {
   "cell_type": "code",
   "execution_count": null,
   "metadata": {
    "colab": {
     "base_uri": "https://localhost:8080/",
     "height": 412
    },
    "colab_type": "code",
    "id": "NQb8zLBUAvvq",
    "outputId": "8c21c3b9-2365-4b03-e673-a871b043ad9d"
   },
   "outputs": [],
   "source": [
    "df.head()"
   ]
  },
  {
   "cell_type": "code",
   "execution_count": null,
   "metadata": {
    "colab": {
     "base_uri": "https://localhost:8080/",
     "height": 228
    },
    "colab_type": "code",
    "id": "aMHKVg0daj21",
    "outputId": "dcb3d8cd-4787-4692-dce5-bfab34e3608b"
   },
   "outputs": [],
   "source": [
    "df['symbolTicker']"
   ]
  }
 ],
 "metadata": {
  "colab": {
   "name": "讀取NYSE公司列表.ipynb",
   "provenance": []
  },
  "kernelspec": {
   "display_name": "Python 3",
   "language": "python",
   "name": "python3"
  },
  "language_info": {
   "codemirror_mode": {
    "name": "ipython",
    "version": 3
   },
   "file_extension": ".py",
   "mimetype": "text/x-python",
   "name": "python",
   "nbconvert_exporter": "python",
   "pygments_lexer": "ipython3",
   "version": "3.7.1"
  }
 },
 "nbformat": 4,
 "nbformat_minor": 2
}
