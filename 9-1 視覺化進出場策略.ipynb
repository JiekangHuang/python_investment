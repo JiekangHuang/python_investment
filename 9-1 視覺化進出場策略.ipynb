{
 "cells": [
  {
   "cell_type": "markdown",
   "metadata": {},
   "source": [
    "<a href=\"https://colab.research.google.com/github/victorgau/python_investment/blob/master/9-1%20%E8%A6%96%E8%A6%BA%E5%8C%96%E9%80%B2%E5%87%BA%E5%A0%B4%E7%AD%96%E7%95%A5.ipynb\" target=\"_parent\"><img src=\"https://colab.research.google.com/assets/colab-badge.svg\" alt=\"Open In Colab\"/></a>"
   ]
  },
  {
   "cell_type": "markdown",
   "metadata": {},
   "source": [
    "# 視覺化進出場策略 (Visualizing Strategies)"
   ]
  },
  {
   "cell_type": "code",
   "execution_count": null,
   "metadata": {},
   "outputs": [],
   "source": [
    "# 將需要的模組放入 colab 中\n",
    "!wget https://github.com/victorgau/python_investment/raw/master/backtest.py -o /dev/null"
   ]
  },
  {
   "cell_type": "markdown",
   "metadata": {},
   "source": [
    "## 看一下單一股票的進出場狀況"
   ]
  },
  {
   "cell_type": "code",
   "execution_count": null,
   "metadata": {},
   "outputs": [],
   "source": [
    "%matplotlib inline\n",
    "\n",
    "import numpy as np\n",
    "import pandas as pd\n",
    "import matplotlib.pyplot as plt\n",
    "import pandas_datareader.data as web\n",
    "import backtest"
   ]
  },
  {
   "cell_type": "markdown",
   "metadata": {},
   "source": [
    "## 讀取歷史股價"
   ]
  },
  {
   "cell_type": "code",
   "execution_count": null,
   "metadata": {},
   "outputs": [],
   "source": [
    "start = \"2017-01-01\"\n",
    "end = \"2017-12-31\""
   ]
  },
  {
   "cell_type": "code",
   "execution_count": null,
   "metadata": {},
   "outputs": [],
   "source": [
    "# 讀取從指定日期之後的股價資訊\n",
    "df = web.DataReader(\"TSLA\", 'yahoo', start, end)"
   ]
  },
  {
   "cell_type": "markdown",
   "metadata": {},
   "source": [
    "## 訂定策略"
   ]
  },
  {
   "cell_type": "code",
   "execution_count": null,
   "metadata": {},
   "outputs": [],
   "source": [
    "# 突破策略\n",
    "def breakout(df):\n",
    "    # Donchian Channel\n",
    "    df['20d_high'] = pd.Series.rolling(df['Adj Close'], window=20).max()\n",
    "    df['10d_low'] = pd.Series.rolling(df['Adj Close'], window=10).min()\n",
    "\n",
    "    has_position = False\n",
    "    df['signals'] = 0\n",
    "    for t in range(1, df['signals'].size):\n",
    "        # 進場條件\n",
    "        if df['Adj Close'][t] > df['20d_high'][t-1]:\n",
    "            if not has_position:\n",
    "                df.loc[df.index[t], 'signals'] = 1\n",
    "                has_position = True\n",
    "        # 出場條件\n",
    "        elif df['Adj Close'][t] < df['10d_low'][t-1]:\n",
    "            if has_position:\n",
    "                df.loc[df.index[t], 'signals'] = -1\n",
    "                has_position = False\n",
    "\n",
    "    df['positions'] = df['signals'].cumsum().shift()"
   ]
  },
  {
   "cell_type": "code",
   "execution_count": null,
   "metadata": {},
   "outputs": [],
   "source": [
    "def macross(df):\n",
    "    # 均線\n",
    "    df['20d'] = pd.Series.rolling(df['Adj Close'], window=20).mean()\n",
    "    df['60d'] = pd.Series.rolling(df['Adj Close'], window=60).mean()\n",
    "    \n",
    "    has_position = False\n",
    "    df['signals'] = 0\n",
    "    for t in range(1, df['signals'].size):\n",
    "        # 進場條件\n",
    "        if df['20d'][t] > df['60d'][t] and df['20d'][t-1] < df['60d'][t-1] and df['60d'][t] > df['60d'][t-1]:\n",
    "            if not has_position:\n",
    "                df.loc[df.index[t], 'signals'] = 1\n",
    "                has_position = True\n",
    "        # 出場條件\n",
    "        elif df['Adj Close'][t] < df['60d'][t] and df['Adj Close'][t-1] < df['60d'][t-1]:\n",
    "            if has_position:\n",
    "                df.loc[df.index[t], 'signals'] = -1\n",
    "                has_position = False\n",
    "\n",
    "    df['positions'] = df['signals'].cumsum().shift()"
   ]
  },
  {
   "cell_type": "code",
   "execution_count": null,
   "metadata": {},
   "outputs": [],
   "source": [
    "def MyStrategy(df):\n",
    "    # 均線\n",
    "    df['5d'] = pd.Series.rolling(df['Adj Close'], window=5).mean()\n",
    "    df['45d'] = pd.Series.rolling(df['Adj Close'], window=45).mean()\n",
    "    \n",
    "    has_position = False\n",
    "    df['signals'] = 0\n",
    "    for t in range(1, df['signals'].size):\n",
    "        # 進場條件\n",
    "        if df['5d'][t] > df['45d'][t] and df['5d'][t-1] < df['45d'][t-1] and df['45d'][t] > df['45d'][t-1]:\n",
    "            if not has_position:\n",
    "                df.loc[df.index[t], 'signals'] = 1\n",
    "                has_position = True\n",
    "        # 出場條件\n",
    "        elif df['Adj Close'][t] < df['45d'][t] and df['Adj Close'][t-1] < df['45d'][t-1]:\n",
    "            if has_position:\n",
    "                df.loc[df.index[t], 'signals'] = -1\n",
    "                has_position = False\n",
    "\n",
    "    df['positions'] = df['signals'].cumsum().shift()"
   ]
  },
  {
   "cell_type": "code",
   "execution_count": null,
   "metadata": {},
   "outputs": [],
   "source": [
    "strategy = macross\n",
    "strategy(df)"
   ]
  },
  {
   "cell_type": "code",
   "execution_count": null,
   "metadata": {},
   "outputs": [],
   "source": [
    "# 底下這一行只是為了要在下面把 signals 跟 positions 畫出來做說明用\n",
    "df[['signals', 'positions']].plot(subplots = True, ylim=(-1.1, 1.1), figsize = (10, 8))"
   ]
  },
  {
   "cell_type": "markdown",
   "metadata": {},
   "source": [
    "## 標出進出場點"
   ]
  },
  {
   "cell_type": "code",
   "execution_count": null,
   "metadata": {},
   "outputs": [],
   "source": [
    "fig, ax = plt.subplots()\n",
    "\n",
    "ax.set_ylabel('Price')\n",
    "\n",
    "lines = ['60d', '20d']\n",
    "\n",
    "df['Adj Close'].plot(ax=ax, color='gray', lw=1., figsize=(10,8))\n",
    "for i in lines:\n",
    "    df[i].plot(ax=ax, lw=1., label=i)\n",
    "\n",
    "# Plot the \"buy\" trades\n",
    "ax.plot(df.loc[df.signals == 1].index,df['Adj Close'][df.signals == 1],'^', markersize=10, color='r', label='buy')\n",
    "\n",
    "# Plot the \"sell\" trades\n",
    "ax.plot(df.loc[df.signals == -1].index, df['Adj Close'][df.signals == -1], 'v', markersize=10, color='k', label='sell')\n",
    "\n",
    "plt.legend()"
   ]
  },
  {
   "cell_type": "markdown",
   "metadata": {},
   "source": [
    "## 計算Sharpe Ratio"
   ]
  },
  {
   "cell_type": "code",
   "execution_count": null,
   "metadata": {},
   "outputs": [],
   "source": [
    "dailyRet = df['Adj Close'].pct_change()"
   ]
  },
  {
   "cell_type": "code",
   "execution_count": null,
   "metadata": {},
   "outputs": [],
   "source": [
    "#假設無風險利率為 4%\n",
    "#假設一年有252個交易日\n",
    "excessRet = np.where(df['positions']==1, dailyRet, 0) - 0.04/252\n",
    "\n",
    "sharpeRatio = np.sqrt(252.0)*np.mean(excessRet)/np.std(excessRet)"
   ]
  },
  {
   "cell_type": "code",
   "execution_count": null,
   "metadata": {},
   "outputs": [],
   "source": [
    "sharpeRatio"
   ]
  },
  {
   "cell_type": "markdown",
   "metadata": {},
   "source": [
    "## 計算MaxDD跟MaxDDD"
   ]
  },
  {
   "cell_type": "code",
   "execution_count": null,
   "metadata": {},
   "outputs": [],
   "source": [
    "df['Ret'] = np.where(df['positions']==1, dailyRet, 0)\n",
    "cumRet = np.cumprod(1 + df['Ret'])"
   ]
  },
  {
   "cell_type": "code",
   "execution_count": null,
   "metadata": {},
   "outputs": [],
   "source": [
    "cumRet.plot(style='r-')"
   ]
  },
  {
   "cell_type": "code",
   "execution_count": null,
   "metadata": {},
   "outputs": [],
   "source": [
    "backtest.DrawDownAnalysis(cumRet)"
   ]
  }
 ],
 "metadata": {
  "anaconda-cloud": {},
  "kernelspec": {
   "display_name": "Python 3",
   "language": "python",
   "name": "python3"
  },
  "language_info": {
   "codemirror_mode": {
    "name": "ipython",
    "version": 3
   },
   "file_extension": ".py",
   "mimetype": "text/x-python",
   "name": "python",
   "nbconvert_exporter": "python",
   "pygments_lexer": "ipython3",
   "version": "3.7.1"
  }
 },
 "nbformat": 4,
 "nbformat_minor": 2
}
